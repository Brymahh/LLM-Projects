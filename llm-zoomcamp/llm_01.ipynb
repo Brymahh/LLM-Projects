{
 "cells": [
  {
   "cell_type": "code",
   "execution_count": 1,
   "id": "a1773990-6fc8-4216-b9a7-a78527d8ab75",
   "metadata": {},
   "outputs": [],
   "source": [
    "# import necessary libraries\n",
    "\n",
    "import openai\n",
    "from openai import OpenAI"
   ]
  },
  {
   "cell_type": "code",
   "execution_count": 2,
   "id": "7d056655-8e9c-46f5-9acd-6c3d78ab8cc2",
   "metadata": {},
   "outputs": [],
   "source": [
    "# instantiate client\n",
    "\n",
    "client = OpenAI()"
   ]
  },
  {
   "cell_type": "code",
   "execution_count": 7,
   "id": "a8c00c0a-56c1-45fd-beab-2ad4a9777b37",
   "metadata": {},
   "outputs": [],
   "source": [
    "# Test: send a prompt \n",
    "\n",
    "response = client.chat.completions.create(\n",
    "    model = \"gpt-3.5-turbo\",\n",
    "    messages = [{'role':'user', 'content':'what is elastic search'}]\n",
    "\n",
    "    \n",
    ")"
   ]
  },
  {
   "cell_type": "code",
   "execution_count": 8,
   "id": "52e2b33d-ceb8-4f89-8780-6f4a5766a916",
   "metadata": {},
   "outputs": [
    {
     "data": {
      "text/plain": [
       "ChatCompletion(id='chatcmpl-9gtOUgPoyHc8OAV4P1PmrRiAc66hi', choices=[Choice(finish_reason='stop', index=0, logprobs=None, message=ChatCompletionMessage(content='Elasticsearch is a highly scalable, distributed search and analytics engine that allows users to search, analyze, and visualize large volumes of data quickly and in real-time. It is built on top of the Apache Lucene search engine and provides a RESTful API for interacting with the data stored in it. Elasticsearch is commonly used for log and event data analysis, full-text search, and real-time data analytics in various applications and industries.', role='assistant', function_call=None, tool_calls=None))], created=1720009738, model='gpt-3.5-turbo-0125', object='chat.completion', service_tier=None, system_fingerprint=None, usage=CompletionUsage(completion_tokens=86, prompt_tokens=11, total_tokens=97))"
      ]
     },
     "execution_count": 8,
     "metadata": {},
     "output_type": "execute_result"
    }
   ],
   "source": [
    "response"
   ]
  },
  {
   "cell_type": "code",
   "execution_count": 17,
   "id": "6b425c42-68bd-4a31-a13b-b45d95405c55",
   "metadata": {},
   "outputs": [
    {
     "data": {
      "text/plain": [
       "'Elasticsearch is a highly scalable, distributed search and analytics engine that allows users to search, analyze, and visualize large volumes of data quickly and in real-time. It is built on top of the Apache Lucene search engine and provides a RESTful API for interacting with the data stored in it. Elasticsearch is commonly used for log and event data analysis, full-text search, and real-time data analytics in various applications and industries.'"
      ]
     },
     "execution_count": 17,
     "metadata": {},
     "output_type": "execute_result"
    }
   ],
   "source": [
    "response.choices[0].message.content"
   ]
  },
  {
   "cell_type": "code",
   "execution_count": null,
   "id": "fac200b7-c0ed-43cd-bbdf-24875650c1f7",
   "metadata": {},
   "outputs": [],
   "source": []
  },
  {
   "cell_type": "code",
   "execution_count": null,
   "id": "077c2b9e-2dec-4902-abdc-0acca7251a6c",
   "metadata": {},
   "outputs": [],
   "source": []
  },
  {
   "cell_type": "markdown",
   "id": "a7e150c8-b98f-47ee-be55-bb82b4d9a7ed",
   "metadata": {},
   "source": [
    "### Preparing the Document"
   ]
  },
  {
   "cell_type": "code",
   "execution_count": 18,
   "id": "e742920f-9b18-4f90-9547-b5a78b126928",
   "metadata": {},
   "outputs": [
    {
     "name": "stdout",
     "output_type": "stream",
     "text": [
      "--2024-07-03 12:54:55--  https://raw.githubusercontent.com/DataTalksClub/llm-zoomcamp/main/01-intro/minsearch.py\n",
      "Resolving raw.githubusercontent.com (raw.githubusercontent.com)... 185.199.108.133, 185.199.109.133, 185.199.110.133, ...\n",
      "Connecting to raw.githubusercontent.com (raw.githubusercontent.com)|185.199.108.133|:443... connected.\n",
      "HTTP request sent, awaiting response... 200 OK\n",
      "Length: 3832 (3.7K) [text/plain]\n",
      "Saving to: ‘minsearch.py’\n",
      "\n",
      "minsearch.py        100%[===================>]   3.74K  --.-KB/s    in 0s      \n",
      "\n",
      "2024-07-03 12:54:55 (15.3 MB/s) - ‘minsearch.py’ saved [3832/3832]\n",
      "\n"
     ]
    }
   ],
   "source": [
    "!wget https://raw.githubusercontent.com/DataTalksClub/llm-zoomcamp/main/01-intro/minsearch.py"
   ]
  },
  {
   "cell_type": "code",
   "execution_count": 19,
   "id": "8ee5717f-19cb-4a3c-87e9-21f63ed42900",
   "metadata": {},
   "outputs": [],
   "source": [
    "import minsearch"
   ]
  },
  {
   "cell_type": "code",
   "execution_count": 20,
   "id": "390b03ca-10ce-4c4d-a938-a6225cf6013c",
   "metadata": {},
   "outputs": [
    {
     "name": "stdout",
     "output_type": "stream",
     "text": [
      "--2024-07-03 13:06:14--  https://raw.githubusercontent.com/DataTalksClub/llm-zoomcamp/main/01-intro/documents.json\n",
      "Resolving raw.githubusercontent.com (raw.githubusercontent.com)... 185.199.110.133, 185.199.109.133, 185.199.111.133, ...\n",
      "Connecting to raw.githubusercontent.com (raw.githubusercontent.com)|185.199.110.133|:443... connected.\n",
      "HTTP request sent, awaiting response... 200 OK\n",
      "Length: 658332 (643K) [text/plain]\n",
      "Saving to: ‘documents.json’\n",
      "\n",
      "documents.json      100%[===================>] 642.90K  --.-KB/s    in 0.02s   \n",
      "\n",
      "2024-07-03 13:06:14 (38.5 MB/s) - ‘documents.json’ saved [658332/658332]\n",
      "\n"
     ]
    }
   ],
   "source": [
    "!wget https://raw.githubusercontent.com/DataTalksClub/llm-zoomcamp/main/01-intro/documents.json"
   ]
  },
  {
   "cell_type": "code",
   "execution_count": 21,
   "id": "1997e21c-027b-40a6-a031-5159727a059d",
   "metadata": {},
   "outputs": [],
   "source": [
    "import json"
   ]
  },
  {
   "cell_type": "code",
   "execution_count": 22,
   "id": "60914315-6f57-43cc-a830-e80e8786618a",
   "metadata": {},
   "outputs": [],
   "source": [
    "# laod the json documents\n",
    "\n",
    "with open('documents.json', 'rt') as f_in:\n",
    "    docs_raw = json.load(f_in)"
   ]
  },
  {
   "cell_type": "code",
   "execution_count": 23,
   "id": "461aef1d-58c7-4e3e-9bb5-1c54cec3564f",
   "metadata": {},
   "outputs": [],
   "source": [
    "# converting json file to a list\n",
    "\n",
    "documents = []\n",
    "\n",
    "for course_dict in docs_raw:\n",
    "    for doc in course_dict['documents']:\n",
    "        doc['course'] = course_dict['course']\n",
    "        documents.append(doc)"
   ]
  },
  {
   "cell_type": "code",
   "execution_count": 25,
   "id": "e37ba2fe-3f24-4727-a843-2b8567a3930b",
   "metadata": {},
   "outputs": [
    {
     "data": {
      "text/plain": [
       "{'text': \"The purpose of this document is to capture frequently asked technical questions\\nThe exact day and hour of the course will be 15th Jan 2024 at 17h00. The course will start with the first  “Office Hours'' live.1\\nSubscribe to course public Google Calendar (it works from Desktop only).\\nRegister before the course starts using this link.\\nJoin the course Telegram channel with announcements.\\nDon’t forget to register in DataTalks.Club's Slack and join the channel.\",\n",
       " 'section': 'General course-related questions',\n",
       " 'question': 'Course - When will the course start?',\n",
       " 'course': 'data-engineering-zoomcamp'}"
      ]
     },
     "execution_count": 25,
     "metadata": {},
     "output_type": "execute_result"
    }
   ],
   "source": [
    "documents[0]"
   ]
  },
  {
   "cell_type": "code",
   "execution_count": 29,
   "id": "04f143e7-4d69-411f-a83d-f9385b05981b",
   "metadata": {},
   "outputs": [],
   "source": [
    "# Create the Index and specify the search elements\n",
    "\n",
    "index = minsearch.Index(\n",
    "    text_fields = ['question', 'text', 'section'],\n",
    "    keyword_fields= ['course']\n",
    ")"
   ]
  },
  {
   "cell_type": "code",
   "execution_count": 30,
   "id": "b1c8e4a4-f71a-45ae-bc62-cd961477844f",
   "metadata": {},
   "outputs": [],
   "source": [
    "q = 'elasticsearch has quit unexpectedly'"
   ]
  },
  {
   "cell_type": "code",
   "execution_count": 31,
   "id": "38e0e7e4-f8ac-4d0b-8738-eed28235d8f1",
   "metadata": {},
   "outputs": [
    {
     "data": {
      "text/plain": [
       "<minsearch.Index at 0x7deb4c7f5810>"
      ]
     },
     "execution_count": 31,
     "metadata": {},
     "output_type": "execute_result"
    }
   ],
   "source": [
    "index.fit(documents)"
   ]
  },
  {
   "cell_type": "code",
   "execution_count": null,
   "id": "648ddedb-3dc8-4890-bf3c-563960b9ed4c",
   "metadata": {},
   "outputs": [],
   "source": []
  }
 ],
 "metadata": {
  "kernelspec": {
   "display_name": "Python 3 (ipykernel)",
   "language": "python",
   "name": "python3"
  },
  "language_info": {
   "codemirror_mode": {
    "name": "ipython",
    "version": 3
   },
   "file_extension": ".py",
   "mimetype": "text/x-python",
   "name": "python",
   "nbconvert_exporter": "python",
   "pygments_lexer": "ipython3",
   "version": "3.10.13"
  }
 },
 "nbformat": 4,
 "nbformat_minor": 5
}
